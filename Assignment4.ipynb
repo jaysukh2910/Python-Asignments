{
 "cells": [
  {
   "cell_type": "markdown",
   "metadata": {},
   "source": [
    "1.1 Write a Python Program(with class concepts) to find the area of the triangle using the below\n",
    "formula.\n",
    "area = (s*(s-a)*(s-b)*(s-c)) ** 0.5\n",
    "Function to take the length of the sides of triangle from user should be defined in the parent\n",
    "class and function to calculate the area should be defined in subclass."
   ]
  },
  {
   "cell_type": "code",
   "execution_count": 1,
   "metadata": {},
   "outputs": [
    {
     "name": "stdout",
     "output_type": "stream",
     "text": [
      "Enter first side of triangle3\n",
      "Enter second side of triangle4\n",
      "Enter third side of triangle5\n",
      "Side1 = 3.0\n",
      "Side2 = 4.0\n",
      "Side3 = 5.0\n",
      "Area of Triangle = 6.0\n"
     ]
    }
   ],
   "source": [
    "class shape:\n",
    "\n",
    "     def __init__(self):\n",
    "                self.side1=float(input(\"Enter first side of triangle\"))\n",
    "                self.side2=float(input(\"Enter second side of triangle\"))\n",
    "                self.side3=float(input(\"Enter third side of triangle\"))\n",
    "                self.sum=(self.side1+self.side2+self.side3)/2\n",
    "\n",
    "class triangle(shape):\n",
    "\n",
    "        def __init__(self):\n",
    "                super().__init__()\n",
    "        def area(self):\n",
    "                self.a=((self.sum*(self.sum-self.side1)*(self.sum-self.side2)*(self.sum-self.side3)))**0.5\n",
    "                \n",
    "        def __str__(self):\n",
    "                return \"Side1 = \"+str(self.side1)+\"\\nSide2 = \"+str(self.side2)+\"\\nSide3 = \"+str(self.side3)+\"\\nArea of Triangle = \"+str(self.a)\n",
    "\n",
    "t1=triangle()\n",
    "t1.area();\n",
    "print(t1);\n"
   ]
  },
  {
   "cell_type": "markdown",
   "metadata": {},
   "source": [
    "1.2 Write a function filter_long_words() that takes a list of words and an integer n and returns\n",
    "the list of words that are longer than n."
   ]
  },
  {
   "cell_type": "code",
   "execution_count": 3,
   "metadata": {},
   "outputs": [
    {
     "name": "stdout",
     "output_type": "stream",
     "text": [
      "['Maharaja', 'Mithilesh']\n"
     ]
    }
   ],
   "source": [
    "def filter_long_words(lst,n):\n",
    "        lst2=[i for i in lst if len(i)>n]\n",
    "        return lst2\n",
    "\n",
    "lst=[\"Jaysukh\",\"Kiran\",\"lalit\",\"Maharaja\",\"Mithilesh\"]\n",
    "lst2=filter_long_words(lst,7)\n",
    "print(lst2)"
   ]
  },
  {
   "cell_type": "markdown",
   "metadata": {},
   "source": [
    "2.1 Write a Python program using function concept that maps list of words into a list of integers\n",
    "representing the lengths of the corresponding words.\n",
    "Hint: If a list [ ab,cde,erty] is passed on to the python function output should come as [2,3,4]\n",
    "Here 2,3 and 4 are the lengths of the words in the list."
   ]
  },
  {
   "cell_type": "code",
   "execution_count": 4,
   "metadata": {},
   "outputs": [
    {
     "name": "stdout",
     "output_type": "stream",
     "text": [
      "[7, 5, 5, 8, 9]\n"
     ]
    }
   ],
   "source": [
    "def mapWordsToNumber(lst):\n",
    "        lst2=[len(i) for i in lst]\n",
    "        return lst2\n",
    "\n",
    "lst=[\"Jaysukh\",\"Kiran\",\"lalit\",\"Maharaja\",\"Mithilesh\"]\n",
    "lst2=mapWordsToNumber(lst)\n",
    "print(lst2)"
   ]
  },
  {
   "cell_type": "markdown",
   "metadata": {},
   "source": [
    "2.2 Write a Python function which takes a character (i.e. a string of length 1) and returns True if\n",
    "it is a vowel, False otherwise."
   ]
  },
  {
   "cell_type": "code",
   "execution_count": 5,
   "metadata": {},
   "outputs": [
    {
     "name": "stdout",
     "output_type": "stream",
     "text": [
      "It is wovel\n"
     ]
    }
   ],
   "source": [
    "def isWovel(ch):\n",
    "        if ch==\"a\" or ch==\"e\" or ch==\"i\" or ch==\"o\" or ch==\"u\" or ch==\"A\" or ch==\"E\" or ch==\"I\" or ch==\"O\" or ch==\"U\":\n",
    "                return True\n",
    "        else:\n",
    "                return False\n",
    "        \n",
    "res=isWovel(\"I\")\n",
    "if res:\n",
    "        print(\"It is wovel\")\n",
    "else:\n",
    "        print(\"It is not a wovel\")"
   ]
  },
  {
   "cell_type": "code",
   "execution_count": null,
   "metadata": {},
   "outputs": [],
   "source": []
  }
 ],
 "metadata": {
  "kernelspec": {
   "display_name": "Python 3",
   "language": "python",
   "name": "python3"
  },
  "language_info": {
   "codemirror_mode": {
    "name": "ipython",
    "version": 3
   },
   "file_extension": ".py",
   "mimetype": "text/x-python",
   "name": "python",
   "nbconvert_exporter": "python",
   "pygments_lexer": "ipython3",
   "version": "3.8.3"
  }
 },
 "nbformat": 4,
 "nbformat_minor": 4
}
